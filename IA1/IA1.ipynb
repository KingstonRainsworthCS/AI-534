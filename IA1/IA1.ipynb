{
 "cells": [
  {
   "cell_type": "code",
   "execution_count": 122,
   "metadata": {},
   "outputs": [],
   "source": [
    "import numpy as np\n",
    "import pandas as pd\n",
    "import matplotlib.pyplot as plt\n",
    "import seaborn as sns\n",
    "sns.set()\n",
    "\n",
    "path_to_csv = \"./IA1_train.csv\"\n",
    "originalData = pd.read_csv(path_to_csv)"
   ]
  },
  {
   "cell_type": "markdown",
   "metadata": {},
   "source": [
    "## Data preprocessing\n",
    "\n",
    "1. Add dummy feature for constant\n",
    "2. Compute age_since_renovated\n",
    "3. Normalize data"
   ]
  },
  {
   "cell_type": "code",
   "execution_count": 123,
   "metadata": {},
   "outputs": [
    {
     "data": {
      "text/html": [
       "<div>\n",
       "<style scoped>\n",
       "    .dataframe tbody tr th:only-of-type {\n",
       "        vertical-align: middle;\n",
       "    }\n",
       "\n",
       "    .dataframe tbody tr th {\n",
       "        vertical-align: top;\n",
       "    }\n",
       "\n",
       "    .dataframe thead th {\n",
       "        text-align: right;\n",
       "    }\n",
       "</style>\n",
       "<table border=\"1\" class=\"dataframe\">\n",
       "  <thead>\n",
       "    <tr style=\"text-align: right;\">\n",
       "      <th></th>\n",
       "      <th>W0</th>\n",
       "      <th>age_since_renovated</th>\n",
       "      <th>bathrooms</th>\n",
       "      <th>bedrooms</th>\n",
       "      <th>condition</th>\n",
       "      <th>floors</th>\n",
       "      <th>grade</th>\n",
       "      <th>lat</th>\n",
       "      <th>long</th>\n",
       "      <th>price</th>\n",
       "      <th>...</th>\n",
       "      <th>sqft_living</th>\n",
       "      <th>sqft_living15</th>\n",
       "      <th>sqft_lot</th>\n",
       "      <th>sqft_lot15</th>\n",
       "      <th>view</th>\n",
       "      <th>waterfront</th>\n",
       "      <th>year</th>\n",
       "      <th>yr_built</th>\n",
       "      <th>yr_renovated</th>\n",
       "      <th>zipcode</th>\n",
       "    </tr>\n",
       "  </thead>\n",
       "  <tbody>\n",
       "    <tr>\n",
       "      <th>0</th>\n",
       "      <td>1</td>\n",
       "      <td>0.587803</td>\n",
       "      <td>-1.465613</td>\n",
       "      <td>-0.388520</td>\n",
       "      <td>-0.634184</td>\n",
       "      <td>-0.922332</td>\n",
       "      <td>-0.563015</td>\n",
       "      <td>-0.308988</td>\n",
       "      <td>-0.932779</td>\n",
       "      <td>2.1800</td>\n",
       "      <td>...</td>\n",
       "      <td>-1.159110</td>\n",
       "      <td>-1.018504</td>\n",
       "      <td>-0.171139</td>\n",
       "      <td>-0.185644</td>\n",
       "      <td>-0.304487</td>\n",
       "      <td>0</td>\n",
       "      <td>-0.682211</td>\n",
       "      <td>-0.509385</td>\n",
       "      <td>-0.204437</td>\n",
       "      <td>0.512279</td>\n",
       "    </tr>\n",
       "    <tr>\n",
       "      <th>1</th>\n",
       "      <td>1</td>\n",
       "      <td>0.137857</td>\n",
       "      <td>0.169158</td>\n",
       "      <td>-0.388520</td>\n",
       "      <td>0.888924</td>\n",
       "      <td>0.917732</td>\n",
       "      <td>0.290361</td>\n",
       "      <td>-1.816632</td>\n",
       "      <td>-1.179633</td>\n",
       "      <td>2.5025</td>\n",
       "      <td>...</td>\n",
       "      <td>0.145003</td>\n",
       "      <td>0.004058</td>\n",
       "      <td>-0.168133</td>\n",
       "      <td>-0.162508</td>\n",
       "      <td>-0.304487</td>\n",
       "      <td>0</td>\n",
       "      <td>-0.682211</td>\n",
       "      <td>-0.068396</td>\n",
       "      <td>-0.204437</td>\n",
       "      <td>-1.040633</td>\n",
       "    </tr>\n",
       "    <tr>\n",
       "      <th>2</th>\n",
       "      <td>1</td>\n",
       "      <td>-1.004315</td>\n",
       "      <td>0.496112</td>\n",
       "      <td>0.649956</td>\n",
       "      <td>-0.634184</td>\n",
       "      <td>0.917732</td>\n",
       "      <td>0.290361</td>\n",
       "      <td>-1.521596</td>\n",
       "      <td>0.428443</td>\n",
       "      <td>2.7000</td>\n",
       "      <td>...</td>\n",
       "      <td>0.298428</td>\n",
       "      <td>1.494077</td>\n",
       "      <td>-0.219787</td>\n",
       "      <td>-0.238313</td>\n",
       "      <td>-0.304487</td>\n",
       "      <td>0</td>\n",
       "      <td>1.465639</td>\n",
       "      <td>1.084961</td>\n",
       "      <td>-0.204437</td>\n",
       "      <td>-0.685148</td>\n",
       "    </tr>\n",
       "    <tr>\n",
       "      <th>3</th>\n",
       "      <td>1</td>\n",
       "      <td>2.283754</td>\n",
       "      <td>-0.811705</td>\n",
       "      <td>-0.388520</td>\n",
       "      <td>-0.634184</td>\n",
       "      <td>0.917732</td>\n",
       "      <td>0.290361</td>\n",
       "      <td>0.540053</td>\n",
       "      <td>-1.017415</td>\n",
       "      <td>9.2630</td>\n",
       "      <td>...</td>\n",
       "      <td>-0.457738</td>\n",
       "      <td>-0.434182</td>\n",
       "      <td>-0.244481</td>\n",
       "      <td>-0.298603</td>\n",
       "      <td>-0.304487</td>\n",
       "      <td>0</td>\n",
       "      <td>-0.682211</td>\n",
       "      <td>-2.171576</td>\n",
       "      <td>-0.204437</td>\n",
       "      <td>0.755506</td>\n",
       "    </tr>\n",
       "    <tr>\n",
       "      <th>4</th>\n",
       "      <td>1</td>\n",
       "      <td>-0.554368</td>\n",
       "      <td>0.496112</td>\n",
       "      <td>-0.388520</td>\n",
       "      <td>0.888924</td>\n",
       "      <td>0.917732</td>\n",
       "      <td>1.997115</td>\n",
       "      <td>0.943294</td>\n",
       "      <td>0.781091</td>\n",
       "      <td>7.0000</td>\n",
       "      <td>...</td>\n",
       "      <td>0.364182</td>\n",
       "      <td>0.471515</td>\n",
       "      <td>-0.122419</td>\n",
       "      <td>-0.155295</td>\n",
       "      <td>-0.304487</td>\n",
       "      <td>0</td>\n",
       "      <td>-0.682211</td>\n",
       "      <td>0.610049</td>\n",
       "      <td>-0.204437</td>\n",
       "      <td>-0.498050</td>\n",
       "    </tr>\n",
       "  </tbody>\n",
       "</table>\n",
       "<p>5 rows × 22 columns</p>\n",
       "</div>"
      ],
      "text/plain": [
       "   W0  age_since_renovated  bathrooms  bedrooms  condition    floors  \\\n",
       "0   1             0.587803  -1.465613 -0.388520  -0.634184 -0.922332   \n",
       "1   1             0.137857   0.169158 -0.388520   0.888924  0.917732   \n",
       "2   1            -1.004315   0.496112  0.649956  -0.634184  0.917732   \n",
       "3   1             2.283754  -0.811705 -0.388520  -0.634184  0.917732   \n",
       "4   1            -0.554368   0.496112 -0.388520   0.888924  0.917732   \n",
       "\n",
       "      grade       lat      long   price  ...  sqft_living  sqft_living15  \\\n",
       "0 -0.563015 -0.308988 -0.932779  2.1800  ...    -1.159110      -1.018504   \n",
       "1  0.290361 -1.816632 -1.179633  2.5025  ...     0.145003       0.004058   \n",
       "2  0.290361 -1.521596  0.428443  2.7000  ...     0.298428       1.494077   \n",
       "3  0.290361  0.540053 -1.017415  9.2630  ...    -0.457738      -0.434182   \n",
       "4  1.997115  0.943294  0.781091  7.0000  ...     0.364182       0.471515   \n",
       "\n",
       "   sqft_lot  sqft_lot15      view  waterfront      year  yr_built  \\\n",
       "0 -0.171139   -0.185644 -0.304487           0 -0.682211 -0.509385   \n",
       "1 -0.168133   -0.162508 -0.304487           0 -0.682211 -0.068396   \n",
       "2 -0.219787   -0.238313 -0.304487           0  1.465639  1.084961   \n",
       "3 -0.244481   -0.298603 -0.304487           0 -0.682211 -2.171576   \n",
       "4 -0.122419   -0.155295 -0.304487           0 -0.682211  0.610049   \n",
       "\n",
       "   yr_renovated   zipcode  \n",
       "0     -0.204437  0.512279  \n",
       "1     -0.204437 -1.040633  \n",
       "2     -0.204437 -0.685148  \n",
       "3     -0.204437  0.755506  \n",
       "4     -0.204437 -0.498050  \n",
       "\n",
       "[5 rows x 22 columns]"
      ]
     },
     "execution_count": 123,
     "metadata": {},
     "output_type": "execute_result"
    }
   ],
   "source": [
    "dateformat = originalData[\"date\"].str.split(\"/\", expand = True)\n",
    "originalData['year'] = dateformat[2].astype(int)\n",
    "originalData['W0'] = 1\n",
    "originalData['age_since_renovated'] = np.where(originalData['yr_renovated'] == 0, originalData['year'] - originalData['yr_built'], originalData['year'] - originalData['yr_renovated'])\n",
    "\n",
    "normalizeData = (originalData - originalData.mean()) / originalData.std()\n",
    "normalizeData['W0'] = originalData['W0']\n",
    "normalizeData['waterfront'] = originalData['waterfront']\n",
    "normalizeData['price'] = originalData['price']\n",
    "\n",
    "trainingData = normalizeData.drop(['date', 'id'], axis = 1)\n",
    "trainingData.head()"
   ]
  },
  {
   "cell_type": "markdown",
   "metadata": {},
   "source": [
    "## Part 1"
   ]
  },
  {
   "cell_type": "code",
   "execution_count": 124,
   "metadata": {},
   "outputs": [],
   "source": [
    "initial_guess = np.repeat([0.5],21)\n",
    "featureData = trainingData.drop(['price'], axis = 1)\n",
    "def BatchGradientDescentRecurse(featureDataframe, actualValue, initialGuess, maxSteps, iteration, minErr, learningRate, returnDict):\n",
    "    dfSize = len(featureDataframe)\n",
    "    gradientLw = (2/dfSize)*featureDataframe.mul((featureDataframe.mul(initialGuess).sum(axis=1) - actualValue), axis = 0).sum().values\n",
    "    normGradient = np.linalg.norm(gradientLw)\n",
    "    nextW = initialGuess - learningRate*gradientLw\n",
    "    updateReturn = {'w': initialGuess, 'gradientLw': normGradient, 'n': iteration}\n",
    "    if (normGradient > minErr and not np.isinf(normGradient) and maxSteps >= 0):\n",
    "        return BatchGradientDescent(featureDataframe, actualValue, nextW, maxSteps, iteration+1, minErr, learningRate, updateReturn)\n",
    "    return returnDict\n",
    "\n",
    "def BatchGradientDescent(featureDataframe, actualValue, initialGuess, maxSteps, minErr, learningRate):\n",
    "    iteration = 0\n",
    "    dfSize = len(featureDataframe)\n",
    "    nextW = initialGuess\n",
    "    gradientLw = (2/dfSize)*featureDataframe.mul((featureDataframe.mul(initialGuess).sum(axis=1) - actualValue), axis = 0).sum().values\n",
    "    normGradient = np.linalg.norm(gradientLw)\n",
    "    MeanSquareError = (1/dfSize)*((featureDataframe.mul(nextW).sum(axis=1) - actualValue)**2).sum()\n",
    "    MSEs = [MeanSquareError]\n",
    "    while (normGradient > minErr and not np.isinf(normGradient) and iteration < maxSteps):\n",
    "        nextW = nextW - learningRate*gradientLw\n",
    "        gradientLw = (2/dfSize)*featureDataframe.mul((featureDataframe.mul(nextW).sum(axis=1) - actualValue), axis = 0).sum().values\n",
    "        normGradient = np.linalg.norm(gradientLw)\n",
    "        MeanSquareError = (1/dfSize)*((featureDataframe.mul(nextW).sum(axis=1) - actualValue)**2).sum()\n",
    "        MSEs.append(MeanSquareError)\n",
    "        iteration += 1\n",
    "    \n",
    "    return {'w': dict(zip(featureDataframe.columns.values, nextW)), 'gradientLw': normGradient, 'n': iteration, 'MSE': MSEs}\n"
   ]
  },
  {
   "cell_type": "code",
   "execution_count": 125,
   "metadata": {},
   "outputs": [],
   "source": [
    "Rate0 = BatchGradientDescent(featureData, trainingData['price'], initial_guess, 5000, 0.1, 10)"
   ]
  },
  {
   "cell_type": "code",
   "execution_count": 126,
   "metadata": {},
   "outputs": [
    {
     "data": {
      "image/png": "[encoded data removed]",
      "text/plain": [
       "<Figure size 864x648 with 1 Axes>"
      ]
     },
     "metadata": {},
     "output_type": "display_data"
    }
   ],
   "source": [
    "plt.subplots(figsize=(12, 9))\n",
    "plt.title(\"MSE vs Iteration\")\n",
    "ax = sns.lineplot(x = list(range(0,Rate0['n']+1)), y = Rate0['MSE'])\n",
    "ax.set(xlabel='n', ylabel='MSE')\n",
    "plt.show()"
   ]
  },
  {
   "cell_type": "code",
   "execution_count": 127,
   "metadata": {},
   "outputs": [],
   "source": [
    "Rate1 = BatchGradientDescent(featureData, trainingData['price'], initial_guess, 5000, 0.1, 0.1)"
   ]
  },
  {
   "cell_type": "code",
   "execution_count": 128,
   "metadata": {},
   "outputs": [],
   "source": [
    "Rate2 = BatchGradientDescent(featureData, trainingData['price'], initial_guess, 5000, 0.1, 0.01)"
   ]
  },
  {
   "cell_type": "code",
   "execution_count": 129,
   "metadata": {},
   "outputs": [],
   "source": [
    "Rate3 = BatchGradientDescent(featureData, trainingData['price'], initial_guess, 5000, 0.1, 0.001)"
   ]
  },
  {
   "cell_type": "code",
   "execution_count": 130,
   "metadata": {},
   "outputs": [],
   "source": [
    "Rate4 = BatchGradientDescent(featureData, trainingData['price'], initial_guess, 5000, 0.1, 0.0001)"
   ]
  },
  {
   "cell_type": "code",
   "execution_count": 131,
   "metadata": {},
   "outputs": [],
   "source": [
    "Rate5 = BatchGradientDescent(featureData, trainingData['price'], initial_guess, 5000, 0.1, 0.00001)"
   ]
  },
  {
   "cell_type": "code",
   "execution_count": 132,
   "metadata": {},
   "outputs": [],
   "source": [
    "Rate6 = BatchGradientDescent(featureData, trainingData['price'], initial_guess, 5000, 0.1, 0.000001)"
   ]
  },
  {
   "cell_type": "code",
   "execution_count": 133,
   "metadata": {},
   "outputs": [
    {
     "data": {
      "image/png": "[encoded data removed]",
      "text/plain": [
       "<Figure size 864x648 with 1 Axes>"
      ]
     },
     "metadata": {},
     "output_type": "display_data"
    }
   ],
   "source": [
    "plt.subplots(figsize=(12, 9))\n",
    "plt.title(\"MSE vs Iteration\")\n",
    "ax1 = sns.lineplot(x = list(range(0,Rate1['n']+1)), y = Rate1['MSE'], label='lambda = 0.1')\n",
    "ax2 = sns.lineplot(x = list(range(0,Rate2['n']+1)), y = Rate2['MSE'], label='lambda = 0.01')\n",
    "ax3 = sns.lineplot(x = list(range(0,Rate3['n']+1)), y = Rate3['MSE'], label='lambda = 0.001')\n",
    "ax4 = sns.lineplot(x = list(range(0,Rate4['n']+1)), y = Rate4['MSE'], label='lambda = 0.0001')\n",
    "ax5 = sns.lineplot(x = list(range(0,Rate5['n']+1)), y = Rate5['MSE'], label='lambda = 0.00001')\n",
    "ax6 = sns.lineplot(x = list(range(0,Rate6['n']+1)), y = Rate6['MSE'], label='lambda = 0.000001')\n",
    "ax6.set(xlabel='n', ylabel='MSE')\n",
    "ax6.legend()\n",
    "plt.show()"
   ]
  },
  {
   "cell_type": "code",
   "execution_count": null,
   "metadata": {},
   "outputs": [],
   "source": []
  }
 ],
 "metadata": {
  "kernelspec": {
   "display_name": "Python 3",
   "language": "python",
   "name": "python3"
  },
  "language_info": {
   "codemirror_mode": {
    "name": "ipython",
    "version": 3
   },
   "file_extension": ".py",
   "mimetype": "text/x-python",
   "name": "python",
   "nbconvert_exporter": "python",
   "pygments_lexer": "ipython3",
   "version": "3.6.9"
  }
 },
 "nbformat": 4,
 "nbformat_minor": 2
}

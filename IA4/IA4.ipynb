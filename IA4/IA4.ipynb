{
 "cells": [
  {
   "cell_type": "markdown",
   "metadata": {},
   "source": [
    "# IA4 - Hoang Vu (Kingston)"
   ]
  },
  {
   "cell_type": "code",
   "execution_count": 144,
   "metadata": {},
   "outputs": [],
   "source": [
    "import numpy as np\n",
    "import pandas as pd\n",
    "import matplotlib.pyplot as plt\n",
    "import seaborn as sns\n",
    "sns.set()"
   ]
  },
  {
   "cell_type": "markdown",
   "metadata": {},
   "source": [
    "## Data prepping"
   ]
  },
  {
   "cell_type": "code",
   "execution_count": 145,
   "metadata": {},
   "outputs": [],
   "source": [
    "path_to_train_csv = \"./mushroom-train.csv\"\n",
    "path_to_val_csv = \"./mushroom-val.csv\""
   ]
  },
  {
   "cell_type": "code",
   "execution_count": 146,
   "metadata": {},
   "outputs": [],
   "source": [
    "trainData = pd.read_csv(path_to_train_csv)\n",
    "valData = pd.read_csv(path_to_val_csv)"
   ]
  },
  {
   "cell_type": "code",
   "execution_count": 147,
   "metadata": {},
   "outputs": [
    {
     "data": {
      "text/html": [
       "<div>\n",
       "<style scoped>\n",
       "    .dataframe tbody tr th:only-of-type {\n",
       "        vertical-align: middle;\n",
       "    }\n",
       "\n",
       "    .dataframe tbody tr th {\n",
       "        vertical-align: top;\n",
       "    }\n",
       "\n",
       "    .dataframe thead th {\n",
       "        text-align: right;\n",
       "    }\n",
       "</style>\n",
       "<table border=\"1\" class=\"dataframe\">\n",
       "  <thead>\n",
       "    <tr style=\"text-align: right;\">\n",
       "      <th></th>\n",
       "      <th>cap-face=b</th>\n",
       "      <th>cap-face=c</th>\n",
       "      <th>cap-face=f</th>\n",
       "      <th>cap-face=k</th>\n",
       "      <th>cap-face=s</th>\n",
       "      <th>cap-face=x</th>\n",
       "      <th>cap-surface=f</th>\n",
       "      <th>cap-surface=g</th>\n",
       "      <th>cap-surface=s</th>\n",
       "      <th>cap-surface=y</th>\n",
       "      <th>...</th>\n",
       "      <th>population=v</th>\n",
       "      <th>population=y</th>\n",
       "      <th>habitat=d</th>\n",
       "      <th>habitat=g</th>\n",
       "      <th>habitat=l</th>\n",
       "      <th>habitat=m</th>\n",
       "      <th>habitat=p</th>\n",
       "      <th>habitat=u</th>\n",
       "      <th>habitat=w</th>\n",
       "      <th>class</th>\n",
       "    </tr>\n",
       "  </thead>\n",
       "  <tbody>\n",
       "    <tr>\n",
       "      <th>0</th>\n",
       "      <td>0</td>\n",
       "      <td>0</td>\n",
       "      <td>1</td>\n",
       "      <td>0</td>\n",
       "      <td>0</td>\n",
       "      <td>0</td>\n",
       "      <td>0</td>\n",
       "      <td>0</td>\n",
       "      <td>0</td>\n",
       "      <td>1</td>\n",
       "      <td>...</td>\n",
       "      <td>1</td>\n",
       "      <td>0</td>\n",
       "      <td>0</td>\n",
       "      <td>0</td>\n",
       "      <td>0</td>\n",
       "      <td>0</td>\n",
       "      <td>1</td>\n",
       "      <td>0</td>\n",
       "      <td>0</td>\n",
       "      <td>0</td>\n",
       "    </tr>\n",
       "    <tr>\n",
       "      <th>1</th>\n",
       "      <td>0</td>\n",
       "      <td>0</td>\n",
       "      <td>0</td>\n",
       "      <td>1</td>\n",
       "      <td>0</td>\n",
       "      <td>0</td>\n",
       "      <td>0</td>\n",
       "      <td>0</td>\n",
       "      <td>1</td>\n",
       "      <td>0</td>\n",
       "      <td>...</td>\n",
       "      <td>1</td>\n",
       "      <td>0</td>\n",
       "      <td>1</td>\n",
       "      <td>0</td>\n",
       "      <td>0</td>\n",
       "      <td>0</td>\n",
       "      <td>0</td>\n",
       "      <td>0</td>\n",
       "      <td>0</td>\n",
       "      <td>0</td>\n",
       "    </tr>\n",
       "    <tr>\n",
       "      <th>2</th>\n",
       "      <td>0</td>\n",
       "      <td>0</td>\n",
       "      <td>1</td>\n",
       "      <td>0</td>\n",
       "      <td>0</td>\n",
       "      <td>0</td>\n",
       "      <td>0</td>\n",
       "      <td>0</td>\n",
       "      <td>0</td>\n",
       "      <td>1</td>\n",
       "      <td>...</td>\n",
       "      <td>1</td>\n",
       "      <td>0</td>\n",
       "      <td>1</td>\n",
       "      <td>0</td>\n",
       "      <td>0</td>\n",
       "      <td>0</td>\n",
       "      <td>0</td>\n",
       "      <td>0</td>\n",
       "      <td>0</td>\n",
       "      <td>0</td>\n",
       "    </tr>\n",
       "    <tr>\n",
       "      <th>3</th>\n",
       "      <td>0</td>\n",
       "      <td>0</td>\n",
       "      <td>0</td>\n",
       "      <td>0</td>\n",
       "      <td>0</td>\n",
       "      <td>1</td>\n",
       "      <td>1</td>\n",
       "      <td>0</td>\n",
       "      <td>0</td>\n",
       "      <td>0</td>\n",
       "      <td>...</td>\n",
       "      <td>0</td>\n",
       "      <td>0</td>\n",
       "      <td>0</td>\n",
       "      <td>1</td>\n",
       "      <td>0</td>\n",
       "      <td>0</td>\n",
       "      <td>0</td>\n",
       "      <td>0</td>\n",
       "      <td>0</td>\n",
       "      <td>1</td>\n",
       "    </tr>\n",
       "    <tr>\n",
       "      <th>4</th>\n",
       "      <td>0</td>\n",
       "      <td>0</td>\n",
       "      <td>1</td>\n",
       "      <td>0</td>\n",
       "      <td>0</td>\n",
       "      <td>0</td>\n",
       "      <td>1</td>\n",
       "      <td>0</td>\n",
       "      <td>0</td>\n",
       "      <td>0</td>\n",
       "      <td>...</td>\n",
       "      <td>0</td>\n",
       "      <td>1</td>\n",
       "      <td>1</td>\n",
       "      <td>0</td>\n",
       "      <td>0</td>\n",
       "      <td>0</td>\n",
       "      <td>0</td>\n",
       "      <td>0</td>\n",
       "      <td>0</td>\n",
       "      <td>1</td>\n",
       "    </tr>\n",
       "  </tbody>\n",
       "</table>\n",
       "<p>5 rows × 118 columns</p>\n",
       "</div>"
      ],
      "text/plain": [
       "   cap-face=b  cap-face=c  cap-face=f  cap-face=k  cap-face=s  cap-face=x  \\\n",
       "0           0           0           1           0           0           0   \n",
       "1           0           0           0           1           0           0   \n",
       "2           0           0           1           0           0           0   \n",
       "3           0           0           0           0           0           1   \n",
       "4           0           0           1           0           0           0   \n",
       "\n",
       "   cap-surface=f  cap-surface=g  cap-surface=s  cap-surface=y  ...  \\\n",
       "0              0              0              0              1  ...   \n",
       "1              0              0              1              0  ...   \n",
       "2              0              0              0              1  ...   \n",
       "3              1              0              0              0  ...   \n",
       "4              1              0              0              0  ...   \n",
       "\n",
       "   population=v  population=y  habitat=d  habitat=g  habitat=l  habitat=m  \\\n",
       "0             1             0          0          0          0          0   \n",
       "1             1             0          1          0          0          0   \n",
       "2             1             0          1          0          0          0   \n",
       "3             0             0          0          1          0          0   \n",
       "4             0             1          1          0          0          0   \n",
       "\n",
       "   habitat=p  habitat=u  habitat=w   class  \n",
       "0          1          0           0      0  \n",
       "1          0          0           0      0  \n",
       "2          0          0           0      0  \n",
       "3          0          0           0      1  \n",
       "4          0          0           0      1  \n",
       "\n",
       "[5 rows x 118 columns]"
      ]
     },
     "execution_count": 147,
     "metadata": {},
     "output_type": "execute_result"
    }
   ],
   "source": [
    "trainData.head()"
   ]
  },
  {
   "cell_type": "code",
   "execution_count": null,
   "metadata": {},
   "outputs": [],
   "source": []
  },
  {
   "cell_type": "markdown",
   "metadata": {},
   "source": [
    "## Decision Tree"
   ]
  },
  {
   "cell_type": "code",
   "execution_count": 148,
   "metadata": {},
   "outputs": [],
   "source": [
    "class Node():\n",
    "    \"\"\"\n",
    "    Node of decision tree\n",
    "\n",
    "    Parameters:\n",
    "    -----------\n",
    "    prediction: int\n",
    "        Class prediction at this node\n",
    "    feature: name\n",
    "        Name of feature used for splitting on\n",
    "    split: int\n",
    "        Categorical value for the threshold to split on for the feature\n",
    "    left_tree: Node\n",
    "        Left subtree\n",
    "    right_tree: Node\n",
    "        Right subtree\n",
    "    \"\"\"\n",
    "    def __init__(self, prediction, feature, split, left_tree, right_tree):\n",
    "        self.prediction = prediction\n",
    "        self.feature = feature\n",
    "        self.split = split\n",
    "        self.left_tree = left_tree\n",
    "        self.right_tree = right_tree\n",
    "\n",
    "\n",
    "\n",
    "###################\n",
    "\n",
    "def entropy(target_col):\n",
    "    \"\"\"\n",
    "    This function takes target_col, which is the data column containing the class labels, and returns H(Y).\n",
    "\n",
    "    \"\"\"\n",
    "    target_col_values = target_col.values\n",
    "    target_col_size = len(target_col_values)\n",
    "    if target_col_size == 0:\n",
    "        return 0\n",
    "    \n",
    "    odd1 = np.count_nonzero(target_col_values==1)/target_col_size\n",
    "    odd0 = np.count_nonzero(target_col_values==0)/target_col_size\n",
    "    \n",
    "    if (odd1 == 0 or odd0 == 0):\n",
    "        return 0\n",
    "    \n",
    "    return -(odd1*np.log2(odd1) + odd0*np.log2(odd0))\n",
    "\n",
    "\n",
    "###################\n",
    "\n",
    "###################\n",
    "\n",
    "\n",
    "def InfoGain(data,split_attribute_name,target_name=\"class\"):\n",
    "    \"\"\"\n",
    "    This function calculates the information gain of specified feature. This function takes three parameters:\n",
    "    1. data = The dataset for whose feature the IG should be calculated\n",
    "    2. split_attribute_name = the name of the feature for which the information gain should be calculated\n",
    "    3. target_name = the name of the target feature. The default for this example is \"class\"\n",
    "    \"\"\"\n",
    "    H_of_Y = entropy(data[target_name])\n",
    "    subData_1 = data[data[split_attribute_name] == 1]\n",
    "    subData_0 = data[data[split_attribute_name] == 0]\n",
    "    odd_subData_1 = len(subData_1.index) / len(data.index)\n",
    "    odd_subData_0 = len(subData_0.index) / len(data.index)\n",
    "    H_of_Y_x1 = entropy(subData_1[target_name])\n",
    "    H_of_Y_x0 = entropy(subData_0[target_name])\n",
    "    Information_Gain = H_of_Y - (odd_subData_1*H_of_Y_x1 + odd_subData_0*H_of_Y_x0)\n",
    "    return Information_Gain\n",
    "\n",
    "###################\n",
    "\n",
    "###################\n",
    "\n",
    "def GetMajority(data):\n",
    "    subData_1 = data[data['class'] == 1]\n",
    "    subData_0 = data[data['class'] == 0]\n",
    "    majority = 1 if len(subData_1.index) >= len(subData_0.index) else 0\n",
    "    return majority\n",
    "\n",
    "def All1(data):\n",
    "    subData_1 = data[data['class'] == 1]\n",
    "    return len(subData_1.index) == len(data.index)\n",
    "\n",
    "def All0(data):\n",
    "    subData_0 = data[data['class'] == 0]\n",
    "    return len(subData_0.index) == len(data.index)\n",
    "\n",
    "\n",
    "def DecisionTree(data,features,target_attribute_name, depth, maxdepth):\n",
    "    #print(\"at depth: \", depth)\n",
    "    \"\"\"\n",
    "    This function takes following paramters:\n",
    "    1. data = the data for which the decision tree building algorithm should be run --> In the first run this equals the total dataset\n",
    "\n",
    "    2. features = the feature space of the dataset . This is needed for the recursive call since during the tree growing process\n",
    "    we have to remove features from our dataset once we have splitted on a feature\n",
    "\n",
    "    3. target_attribute_name = the name of the target attribute\n",
    "    4. depth = the current depth of the node in the tree --- this is needed to remember where you are in the overall tree\n",
    "    5. maxdepth =  the stopping condition for growing the tree\n",
    "\n",
    "    \"\"\"\n",
    "    #First of all, define the stopping criteria here are some, depending on how you implement your code, there maybe more corner cases to consider\n",
    "    \"\"\"\n",
    "    1. If max depth is met, return a leaf node labeled with majority class, additionally\n",
    "    2. If all target_values have the same value (pure), return a leaf node labeled with majority class \n",
    "    3. If the remaining feature space is empty, return a leaf node labeled with majority class\n",
    "    \"\"\"\n",
    "    ######################\n",
    "    #Filling in this part#\n",
    "    ######################\n",
    "    if (depth == maxdepth):\n",
    "        return Node(\n",
    "            prediction = GetMajority(data), \n",
    "            feature = \"\", \n",
    "            split = -1,\n",
    "            left_tree = None, \n",
    "            right_tree = None\n",
    "        )\n",
    "    \n",
    "    if (All1(data)):\n",
    "        return Node(\n",
    "            prediction = GetMajority(data), \n",
    "            feature = \"\", \n",
    "            split = -1,\n",
    "            left_tree = None, \n",
    "            right_tree = None\n",
    "        )\n",
    "    \n",
    "    if (All0(data)):\n",
    "        return Node(\n",
    "            prediction = GetMajority(data), \n",
    "            feature = \"\", \n",
    "            split = -1,\n",
    "            left_tree = None, \n",
    "            right_tree = None\n",
    "        )\n",
    "    \n",
    "    if (len(features.columns) == 0):\n",
    "        return Node(\n",
    "            prediction = GetMajority(data), \n",
    "            feature = \"\", \n",
    "            split = -1,\n",
    "            left_tree = None, \n",
    "            right_tree = None\n",
    "        )\n",
    "\n",
    "    #If none of the above holds true, grow the tree!\n",
    "    #First, select the feature which best splits the dataset\n",
    "    \n",
    "    MaxInfoGain = -1\n",
    "    SplitFeatureName = \"\"\n",
    "    for featureName in features.columns.values:\n",
    "        currentGain = InfoGain(data,featureName, target_attribute_name)\n",
    "        if MaxInfoGain < currentGain:\n",
    "            MaxInfoGain = currentGain\n",
    "            SplitFeatureName = featureName\n",
    "    #Once best split is decided, do the following: \n",
    "    \"\"\"\n",
    "    1. create a node to store the selected feature \n",
    "    2. remove the selected feature from further consideration\n",
    "    3. split the training data into the left and right branches and grow the left and right branch by making appropriate cursive calls\n",
    "    4. return the completed node\n",
    "    \"\"\"\n",
    "    \n",
    "    LeftTree = DecisionTree(\n",
    "        data[data[SplitFeatureName] == 1],\n",
    "        features[features.columns.drop(SplitFeatureName)],\n",
    "        \"class\", \n",
    "        depth + 1, \n",
    "        maxdepth\n",
    "    )\n",
    "    \n",
    "    RightTree = DecisionTree(\n",
    "        data[data[SplitFeatureName] == 0],\n",
    "        features[features.columns.drop(SplitFeatureName)],\n",
    "        \"class\", \n",
    "        depth + 1, \n",
    "        maxdepth\n",
    "    )\n",
    "    \n",
    "    return Node(\n",
    "        prediction = GetMajority(data), \n",
    "        feature = SplitFeatureName, \n",
    "        split = 0.5,\n",
    "        left_tree = LeftTree, \n",
    "        right_tree = RightTree\n",
    "    )\n",
    "\n",
    "###################\n",
    "\n",
    "###################\n",
    "\n",
    "\n",
    "\n",
    "\n",
    "def predict(example,tree,default = 1):\n",
    "    \"\"\"\n",
    "    This function handles making prediction for an example, takes two parameters:\n",
    "    1. The example\n",
    "\n",
    "    2. The tree, which is a node\n",
    "    This needs to be done in a recursive manner. First check if the node is a leaf, if so, return the prediction of the node. Otherwise, send the example down the appropriate subbranch with recursive call.\n",
    "    \"\"\"\n",
    "    if (tree.feature == \"\"):\n",
    "        return tree.prediction\n",
    "    elif (example[tree.feature] >= tree.split):\n",
    "        return predict(example,tree.left_tree)\n",
    "    elif (example[tree.feature] < tree.split):\n",
    "        return predict(example,tree.right_tree)\n",
    "    else:\n",
    "        return default\n",
    "\n"
   ]
  },
  {
   "cell_type": "markdown",
   "metadata": {},
   "source": [
    "## Part 1: Decision Tree"
   ]
  },
  {
   "cell_type": "markdown",
   "metadata": {},
   "source": [
    "For this part of the assignment, you will experiment with your implemented algorithm with different\n",
    "maximum depth and observe its performance on training and validation data. Specifically, apply your\n",
    "implemented algorithm to learn from the training data with dmax ∈ [1, 10]. In your report, please answer\n",
    "the following questions.\n"
   ]
  },
  {
   "cell_type": "code",
   "execution_count": 149,
   "metadata": {},
   "outputs": [],
   "source": [
    "featureData = trainData.drop(['class'], axis = 1)\n",
    "\n",
    "TreeDepth1 = DecisionTree(trainData, featureData, 'class', 0, 1)"
   ]
  },
  {
   "cell_type": "code",
   "execution_count": 150,
   "metadata": {},
   "outputs": [],
   "source": [
    "TreeDepth2 = DecisionTree(trainData, featureData, 'class', 0, 2)"
   ]
  },
  {
   "cell_type": "code",
   "execution_count": 151,
   "metadata": {},
   "outputs": [],
   "source": [
    "TreeDepth3 = DecisionTree(trainData, featureData, 'class', 0, 3)"
   ]
  },
  {
   "cell_type": "code",
   "execution_count": 152,
   "metadata": {},
   "outputs": [],
   "source": [
    "TreeDepth4 = DecisionTree(trainData, featureData, 'class', 0, 4)"
   ]
  },
  {
   "cell_type": "code",
   "execution_count": 153,
   "metadata": {},
   "outputs": [],
   "source": [
    "TreeDepth5 = DecisionTree(trainData, featureData, 'class', 0, 5)"
   ]
  },
  {
   "cell_type": "code",
   "execution_count": 154,
   "metadata": {},
   "outputs": [],
   "source": [
    "TreeDepth6 = DecisionTree(trainData, featureData, 'class', 0, 6)"
   ]
  },
  {
   "cell_type": "code",
   "execution_count": 155,
   "metadata": {},
   "outputs": [],
   "source": [
    "TreeDepth7 = DecisionTree(trainData, featureData, 'class', 0, 7)"
   ]
  },
  {
   "cell_type": "code",
   "execution_count": 156,
   "metadata": {},
   "outputs": [],
   "source": [
    "TreeDepth8 = DecisionTree(trainData, featureData, 'class', 0, 8)"
   ]
  },
  {
   "cell_type": "code",
   "execution_count": 157,
   "metadata": {},
   "outputs": [],
   "source": [
    "TreeDepth9 = DecisionTree(trainData, featureData, 'class', 0, 9)"
   ]
  },
  {
   "cell_type": "code",
   "execution_count": 158,
   "metadata": {},
   "outputs": [],
   "source": [
    "TreeDepth10 = DecisionTree(trainData, featureData, 'class', 0, 10)"
   ]
  },
  {
   "cell_type": "markdown",
   "metadata": {},
   "source": [
    "#### (a) What are the first three splits selected by your algorithm? This is for the root, and the two splitsimmediately beneath the root. What are their respective information gains?\n"
   ]
  },
  {
   "cell_type": "code",
   "execution_count": 160,
   "metadata": {},
   "outputs": [
    {
     "data": {
      "text/plain": [
       "'odor=n'"
      ]
     },
     "execution_count": 160,
     "metadata": {},
     "output_type": "execute_result"
    }
   ],
   "source": [
    "TreeDepth2.feature"
   ]
  },
  {
   "cell_type": "code",
   "execution_count": 161,
   "metadata": {},
   "outputs": [
    {
     "data": {
      "text/plain": [
       "'spore-print-color=r'"
      ]
     },
     "execution_count": 161,
     "metadata": {},
     "output_type": "execute_result"
    }
   ],
   "source": [
    "TreeDepth2.left_tree.feature"
   ]
  },
  {
   "cell_type": "code",
   "execution_count": 162,
   "metadata": {},
   "outputs": [
    {
     "data": {
      "text/plain": [
       "'bruises?=f'"
      ]
     },
     "execution_count": 162,
     "metadata": {},
     "output_type": "execute_result"
    }
   ],
   "source": [
    "TreeDepth2.right_tree.feature"
   ]
  },
  {
   "cell_type": "markdown",
   "metadata": {},
   "source": [
    "The three first splits are:\n",
    "1. odor = n\n",
    "2. spore-print-color=r\n",
    "3. bruises?=f"
   ]
  },
  {
   "cell_type": "markdown",
   "metadata": {},
   "source": [
    "#### (b) Evaluate and plot the training and validation accuracies of your trees as a function of dmax ranging from 1 to 10. At which depth does the train accuracy reaches to 100%? If your tree could not get to 100% before the depth of 10, keep on extending the tree in depth until it reaches 100% for the train accuracy. Do you observe any overfitting?\n"
   ]
  },
  {
   "cell_type": "code",
   "execution_count": 196,
   "metadata": {},
   "outputs": [],
   "source": [
    "def getAccuracy(tree, dataset):\n",
    "    predictions = []\n",
    "    for row in range(0, dataset.shape[0]):\n",
    "        predictions.append(predict(dataset.loc[row],tree) - dataset.loc[row]['class'])\n",
    "    return 1 - (np.count_nonzero(predictions)/len(predictions))"
   ]
  },
  {
   "cell_type": "code",
   "execution_count": 202,
   "metadata": {},
   "outputs": [],
   "source": [
    "trainAcc1 = getAccuracy(TreeDepth1, trainData)\n",
    "trainAcc2 = getAccuracy(TreeDepth2, trainData)\n",
    "trainAcc3 = getAccuracy(TreeDepth3, trainData)\n",
    "trainAcc4 = getAccuracy(TreeDepth4, trainData)\n",
    "trainAcc5 = getAccuracy(TreeDepth5, trainData)\n",
    "trainAcc6 = getAccuracy(TreeDepth6, trainData)\n",
    "trainAcc7 = getAccuracy(TreeDepth7, trainData)\n",
    "trainAcc8 = getAccuracy(TreeDepth8, trainData)\n",
    "trainAcc9 = getAccuracy(TreeDepth9, trainData)\n",
    "trainAcc10 = getAccuracy(TreeDepth10, trainData)\n",
    "\n",
    "valAcc1 = getAccuracy(TreeDepth1, valData)\n",
    "valAcc2 = getAccuracy(TreeDepth2, valData)\n",
    "valAcc3 = getAccuracy(TreeDepth3, valData)\n",
    "valAcc4 = getAccuracy(TreeDepth4, valData)\n",
    "valAcc5 = getAccuracy(TreeDepth5, valData)\n",
    "valAcc6 = getAccuracy(TreeDepth6, valData)\n",
    "valAcc7 = getAccuracy(TreeDepth7, valData)\n",
    "valAcc8 = getAccuracy(TreeDepth8, valData)\n",
    "valAcc9 = getAccuracy(TreeDepth9, valData)\n",
    "valAcc10 = getAccuracy(TreeDepth10, valData)"
   ]
  },
  {
   "cell_type": "code",
   "execution_count": 204,
   "metadata": {},
   "outputs": [
    {
     "data": {
      "image/png": "[encoded data removed]",
      "text/plain": [
       "<Figure size 864x648 with 1 Axes>"
      ]
     },
     "metadata": {},
     "output_type": "display_data"
    }
   ],
   "source": [
    "plt.subplots(figsize=(12, 9))\n",
    "plt.title(\"Accuracies at different max tree depth\")\n",
    "xaxis = np.array(range(1,11))\n",
    "accuracies = np.array([\n",
    "    trainAcc1,\n",
    "    trainAcc2,\n",
    "    trainAcc3,\n",
    "    trainAcc4,\n",
    "    trainAcc5,\n",
    "    trainAcc6,\n",
    "    trainAcc7,\n",
    "    trainAcc8,\n",
    "    trainAcc9,\n",
    "    trainAcc10\n",
    "])\n",
    "ax = sns.lineplot(x = xaxis, y = accuracies)\n",
    "\n",
    "ax.set(xlabel='Max Tree Depth', ylabel='Accuracies')\n",
    "plt.show()"
   ]
  },
  {
   "cell_type": "code",
   "execution_count": 195,
   "metadata": {},
   "outputs": [],
   "source": [
    "a"
   ]
  },
  {
   "cell_type": "code",
   "execution_count": null,
   "metadata": {},
   "outputs": [],
   "source": []
  }
 ],
 "metadata": {
  "kernelspec": {
   "display_name": "Python 3",
   "language": "python",
   "name": "python3"
  },
  "language_info": {
   "codemirror_mode": {
    "name": "ipython",
    "version": 3
   },
   "file_extension": ".py",
   "mimetype": "text/x-python",
   "name": "python",
   "nbconvert_exporter": "python",
   "pygments_lexer": "ipython3",
   "version": "3.6.9"
  }
 },
 "nbformat": 4,
 "nbformat_minor": 2
}
